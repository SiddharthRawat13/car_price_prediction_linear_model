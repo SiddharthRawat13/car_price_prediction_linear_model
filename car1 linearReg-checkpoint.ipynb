{
 "cells": [
  {
   "cell_type": "code",
   "execution_count": 1,
   "id": "fce0e1f7-7eb8-4beb-bb5d-365bbc4e3709",
   "metadata": {},
   "outputs": [],
   "source": [
    "import pandas as pd\n",
    "import numpy as np\n",
    "import gradio as gr"
   ]
  },
  {
   "cell_type": "code",
   "execution_count": 2,
   "id": "4eec2630-3cc4-48f4-8e17-dba1b40566d9",
   "metadata": {},
   "outputs": [],
   "source": [
    "df = pd.read_csv(r'C:\\Users\\LENOVO\\OneDrive\\Desktop\\python\\webscraping\\auto car trader\\cleaned_auto_car_trader1.csv')"
   ]
  },
  {
   "cell_type": "code",
   "execution_count": 3,
   "id": "a7f005f4-2891-4c48-ab50-4609b2d13a36",
   "metadata": {},
   "outputs": [
    {
     "data": {
      "text/html": [
       "<div>\n",
       "<style scoped>\n",
       "    .dataframe tbody tr th:only-of-type {\n",
       "        vertical-align: middle;\n",
       "    }\n",
       "\n",
       "    .dataframe tbody tr th {\n",
       "        vertical-align: top;\n",
       "    }\n",
       "\n",
       "    .dataframe thead th {\n",
       "        text-align: right;\n",
       "    }\n",
       "</style>\n",
       "<table border=\"1\" class=\"dataframe\">\n",
       "  <thead>\n",
       "    <tr style=\"text-align: right;\">\n",
       "      <th></th>\n",
       "      <th>Name</th>\n",
       "      <th>Year</th>\n",
       "      <th>Price</th>\n",
       "      <th>Miles</th>\n",
       "      <th>engine size</th>\n",
       "      <th>cylinder</th>\n",
       "      <th>engine type</th>\n",
       "      <th>city mileage</th>\n",
       "      <th>highway mileage</th>\n",
       "      <th>gear</th>\n",
       "      <th>transmission type</th>\n",
       "    </tr>\n",
       "  </thead>\n",
       "  <tbody>\n",
       "    <tr>\n",
       "      <th>0</th>\n",
       "      <td>GMC Sierra  Denali</td>\n",
       "      <td>2020</td>\n",
       "      <td>49994</td>\n",
       "      <td>38806</td>\n",
       "      <td>6.0</td>\n",
       "      <td>8.0</td>\n",
       "      <td>Gas</td>\n",
       "      <td>15.0</td>\n",
       "      <td>20.0</td>\n",
       "      <td>10.0</td>\n",
       "      <td>Automatic</td>\n",
       "    </tr>\n",
       "    <tr>\n",
       "      <th>1</th>\n",
       "      <td>Kia K5 LXS</td>\n",
       "      <td>2023</td>\n",
       "      <td>21197</td>\n",
       "      <td>18476</td>\n",
       "      <td>2.0</td>\n",
       "      <td>4.0</td>\n",
       "      <td>Gas</td>\n",
       "      <td>27.0</td>\n",
       "      <td>37.0</td>\n",
       "      <td>8.0</td>\n",
       "      <td>Automatic</td>\n",
       "    </tr>\n",
       "    <tr>\n",
       "      <th>2</th>\n",
       "      <td>Chevrolet Equinox LT</td>\n",
       "      <td>2021</td>\n",
       "      <td>22755</td>\n",
       "      <td>33432</td>\n",
       "      <td>2.0</td>\n",
       "      <td>4.0</td>\n",
       "      <td>Gas</td>\n",
       "      <td>26.0</td>\n",
       "      <td>31.0</td>\n",
       "      <td>6.0</td>\n",
       "      <td>Automatic</td>\n",
       "    </tr>\n",
       "  </tbody>\n",
       "</table>\n",
       "</div>"
      ],
      "text/plain": [
       "                     Name  Year  Price  Miles  engine size  cylinder   \n",
       "0      GMC Sierra  Denali  2020  49994  38806          6.0       8.0  \\\n",
       "1              Kia K5 LXS  2023  21197  18476          2.0       4.0   \n",
       "2    Chevrolet Equinox LT  2021  22755  33432          2.0       4.0   \n",
       "\n",
       "  engine type  city mileage  highway mileage  gear transmission type  \n",
       "0        Gas           15.0             20.0  10.0         Automatic  \n",
       "1        Gas           27.0             37.0   8.0         Automatic  \n",
       "2        Gas           26.0             31.0   6.0         Automatic  "
      ]
     },
     "execution_count": 3,
     "metadata": {},
     "output_type": "execute_result"
    }
   ],
   "source": [
    "df.head(3)"
   ]
  },
  {
   "cell_type": "code",
   "execution_count": 4,
   "id": "760048e5-02b1-4d07-b772-e53da8e9bc01",
   "metadata": {},
   "outputs": [],
   "source": [
    "from sklearn.preprocessing import LabelEncoder\n",
    "\n",
    "# Initialize LabelEncoder\n",
    "label_encoder = LabelEncoder()\n",
    "\n",
    "# Apply LabelEncoder to 'engine type' and 'transmission type' columns\n",
    "df['engine type'] = label_encoder.fit_transform(df['engine type'])\n",
    "df['transmission type'] = label_encoder.fit_transform(df['transmission type'])"
   ]
  },
  {
   "cell_type": "code",
   "execution_count": 5,
   "id": "c20df7cb-2fd4-4570-84d7-454e27632dc2",
   "metadata": {},
   "outputs": [],
   "source": [
    "features = df.iloc[:,[1,3,4,5,6,7,8,9,10]]"
   ]
  },
  {
   "cell_type": "code",
   "execution_count": 6,
   "id": "3eceee66-749c-4f0b-b149-46b867fcf385",
   "metadata": {},
   "outputs": [],
   "source": [
    "x = features.values"
   ]
  },
  {
   "cell_type": "code",
   "execution_count": 7,
   "id": "c7b5cc7a-472e-4bfb-b8f4-fe271d2bd73b",
   "metadata": {},
   "outputs": [],
   "source": [
    "y = df['Price'].values"
   ]
  },
  {
   "cell_type": "code",
   "execution_count": 8,
   "id": "4df157ba-3e90-4fe7-898b-678d76141cba",
   "metadata": {},
   "outputs": [],
   "source": [
    "from sklearn.model_selection import train_test_split\n",
    "from sklearn import linear_model"
   ]
  },
  {
   "cell_type": "code",
   "execution_count": 9,
   "id": "0f2a293e-c7dd-4407-81bc-0155e650c013",
   "metadata": {},
   "outputs": [],
   "source": [
    "x_train, x_test,y_train,y_test = train_test_split(x,y,test_size=.3,random_state=1)"
   ]
  },
  {
   "cell_type": "code",
   "execution_count": 10,
   "id": "7518798f-83ba-4e15-8e9e-704b76a31f88",
   "metadata": {},
   "outputs": [],
   "source": [
    "lr = linear_model.LinearRegression()"
   ]
  },
  {
   "cell_type": "code",
   "execution_count": 11,
   "id": "3dbb18ef-ddac-4c40-9c95-a868c60d8973",
   "metadata": {},
   "outputs": [
    {
     "data": {
      "text/html": [
       "<style>#sk-container-id-1 {color: black;}#sk-container-id-1 pre{padding: 0;}#sk-container-id-1 div.sk-toggleable {background-color: white;}#sk-container-id-1 label.sk-toggleable__label {cursor: pointer;display: block;width: 100%;margin-bottom: 0;padding: 0.3em;box-sizing: border-box;text-align: center;}#sk-container-id-1 label.sk-toggleable__label-arrow:before {content: \"▸\";float: left;margin-right: 0.25em;color: #696969;}#sk-container-id-1 label.sk-toggleable__label-arrow:hover:before {color: black;}#sk-container-id-1 div.sk-estimator:hover label.sk-toggleable__label-arrow:before {color: black;}#sk-container-id-1 div.sk-toggleable__content {max-height: 0;max-width: 0;overflow: hidden;text-align: left;background-color: #f0f8ff;}#sk-container-id-1 div.sk-toggleable__content pre {margin: 0.2em;color: black;border-radius: 0.25em;background-color: #f0f8ff;}#sk-container-id-1 input.sk-toggleable__control:checked~div.sk-toggleable__content {max-height: 200px;max-width: 100%;overflow: auto;}#sk-container-id-1 input.sk-toggleable__control:checked~label.sk-toggleable__label-arrow:before {content: \"▾\";}#sk-container-id-1 div.sk-estimator input.sk-toggleable__control:checked~label.sk-toggleable__label {background-color: #d4ebff;}#sk-container-id-1 div.sk-label input.sk-toggleable__control:checked~label.sk-toggleable__label {background-color: #d4ebff;}#sk-container-id-1 input.sk-hidden--visually {border: 0;clip: rect(1px 1px 1px 1px);clip: rect(1px, 1px, 1px, 1px);height: 1px;margin: -1px;overflow: hidden;padding: 0;position: absolute;width: 1px;}#sk-container-id-1 div.sk-estimator {font-family: monospace;background-color: #f0f8ff;border: 1px dotted black;border-radius: 0.25em;box-sizing: border-box;margin-bottom: 0.5em;}#sk-container-id-1 div.sk-estimator:hover {background-color: #d4ebff;}#sk-container-id-1 div.sk-parallel-item::after {content: \"\";width: 100%;border-bottom: 1px solid gray;flex-grow: 1;}#sk-container-id-1 div.sk-label:hover label.sk-toggleable__label {background-color: #d4ebff;}#sk-container-id-1 div.sk-serial::before {content: \"\";position: absolute;border-left: 1px solid gray;box-sizing: border-box;top: 0;bottom: 0;left: 50%;z-index: 0;}#sk-container-id-1 div.sk-serial {display: flex;flex-direction: column;align-items: center;background-color: white;padding-right: 0.2em;padding-left: 0.2em;position: relative;}#sk-container-id-1 div.sk-item {position: relative;z-index: 1;}#sk-container-id-1 div.sk-parallel {display: flex;align-items: stretch;justify-content: center;background-color: white;position: relative;}#sk-container-id-1 div.sk-item::before, #sk-container-id-1 div.sk-parallel-item::before {content: \"\";position: absolute;border-left: 1px solid gray;box-sizing: border-box;top: 0;bottom: 0;left: 50%;z-index: -1;}#sk-container-id-1 div.sk-parallel-item {display: flex;flex-direction: column;z-index: 1;position: relative;background-color: white;}#sk-container-id-1 div.sk-parallel-item:first-child::after {align-self: flex-end;width: 50%;}#sk-container-id-1 div.sk-parallel-item:last-child::after {align-self: flex-start;width: 50%;}#sk-container-id-1 div.sk-parallel-item:only-child::after {width: 0;}#sk-container-id-1 div.sk-dashed-wrapped {border: 1px dashed gray;margin: 0 0.4em 0.5em 0.4em;box-sizing: border-box;padding-bottom: 0.4em;background-color: white;}#sk-container-id-1 div.sk-label label {font-family: monospace;font-weight: bold;display: inline-block;line-height: 1.2em;}#sk-container-id-1 div.sk-label-container {text-align: center;}#sk-container-id-1 div.sk-container {/* jupyter's `normalize.less` sets `[hidden] { display: none; }` but bootstrap.min.css set `[hidden] { display: none !important; }` so we also need the `!important` here to be able to override the default hidden behavior on the sphinx rendered scikit-learn.org. See: https://github.com/scikit-learn/scikit-learn/issues/21755 */display: inline-block !important;position: relative;}#sk-container-id-1 div.sk-text-repr-fallback {display: none;}</style><div id=\"sk-container-id-1\" class=\"sk-top-container\"><div class=\"sk-text-repr-fallback\"><pre>LinearRegression()</pre><b>In a Jupyter environment, please rerun this cell to show the HTML representation or trust the notebook. <br />On GitHub, the HTML representation is unable to render, please try loading this page with nbviewer.org.</b></div><div class=\"sk-container\" hidden><div class=\"sk-item\"><div class=\"sk-estimator sk-toggleable\"><input class=\"sk-toggleable__control sk-hidden--visually\" id=\"sk-estimator-id-1\" type=\"checkbox\" checked><label for=\"sk-estimator-id-1\" class=\"sk-toggleable__label sk-toggleable__label-arrow\">LinearRegression</label><div class=\"sk-toggleable__content\"><pre>LinearRegression()</pre></div></div></div></div></div>"
      ],
      "text/plain": [
       "LinearRegression()"
      ]
     },
     "execution_count": 11,
     "metadata": {},
     "output_type": "execute_result"
    }
   ],
   "source": [
    "lr.fit(x_train,y_train)"
   ]
  },
  {
   "cell_type": "code",
   "execution_count": 12,
   "id": "eceb7e78-4bab-427e-8857-33a49397c1e0",
   "metadata": {},
   "outputs": [],
   "source": [
    "y_train_p = lr.predict(x_train)"
   ]
  },
  {
   "cell_type": "code",
   "execution_count": 13,
   "id": "14120d67-156b-4c1c-a504-0ca8c0f3a963",
   "metadata": {},
   "outputs": [
    {
     "name": "stdout",
     "output_type": "stream",
     "text": [
      "predicitive Accuracy : 0.8047847085504246\n"
     ]
    }
   ],
   "source": [
    "print('predicitive Accuracy :',lr.score(x_train,y_train)) # The model have 80% accuracy"
   ]
  },
  {
   "cell_type": "code",
   "execution_count": 14,
   "id": "336c51a2-2354-4fd2-af98-a8db47e4df20",
   "metadata": {},
   "outputs": [
    {
     "name": "stdout",
     "output_type": "stream",
     "text": [
      "Price of car should be [43732.47375456]\n"
     ]
    }
   ],
   "source": [
    "price = lr.predict([[2020,38806,6.0,8.0,3,15.0\t,20.0,10.0,0]])\n",
    "     #Enter Values\n",
    "print('Price of car should be', price)"
   ]
  },
  {
   "cell_type": "code",
   "execution_count": 15,
   "id": "f3d08020-a742-4bef-bf02-2d7d574cc422",
   "metadata": {},
   "outputs": [],
   "source": [
    "y_test_p = lr.predict(x_test)\n"
   ]
  },
  {
   "cell_type": "code",
   "execution_count": 16,
   "id": "31d7230d-8834-4927-96d3-0bcba01c4c29",
   "metadata": {},
   "outputs": [
    {
     "name": "stdout",
     "output_type": "stream",
     "text": [
      "predicitive Acuracy : 0.748812951627239\n"
     ]
    }
   ],
   "source": [
    "print('predicitive Acuracy :',lr.score(x_test,y_test))"
   ]
  },
  {
   "cell_type": "code",
   "execution_count": 17,
   "id": "73595f44-84df-46a0-83ea-50f046835c87",
   "metadata": {},
   "outputs": [],
   "source": [
    "# Function to predict car price\n",
    "def predict_price(year, miles, engine_size, cylinder, engine_type, city_mileage, highway_mileage, gear, transmission_type):\n",
    "    # Predict price\n",
    "    input_data = [[year, miles, engine_size, cylinder, engine_type, city_mileage, highway_mileage, gear, transmission_type]]\n",
    "    prediction = lr.predict(input_data)[0]\n",
    "    \n",
    "    return f\"€{prediction:.2f}\""
   ]
  },
  {
   "cell_type": "code",
   "execution_count": 18,
   "id": "c674cb62-c946-4598-80a1-8f2724e5b4bd",
   "metadata": {},
   "outputs": [
    {
     "name": "stdout",
     "output_type": "stream",
     "text": [
      "Running on local URL:  http://127.0.0.1:7860\n",
      "\n",
      "To create a public link, set `share=True` in `launch()`.\n"
     ]
    },
    {
     "data": {
      "text/html": [
       "<div><iframe src=\"http://127.0.0.1:7860/\" width=\"100%\" height=\"500\" allow=\"autoplay; camera; microphone; clipboard-read; clipboard-write;\" frameborder=\"0\" allowfullscreen></iframe></div>"
      ],
      "text/plain": [
       "<IPython.core.display.HTML object>"
      ]
     },
     "metadata": {},
     "output_type": "display_data"
    },
    {
     "data": {
      "text/plain": []
     },
     "execution_count": 18,
     "metadata": {},
     "output_type": "execute_result"
    }
   ],
   "source": [
    "#Engine type labels and corresponding values (modify as needed)\n",
    "engine_type_labels = [\"Diesel\", \"Electric\", \"Fuel\", \"Gas\", \"Hybrid\"]\n",
    "engine_type_values = [0, 1, 2, 3, 4] \n",
    "\n",
    "transmission_type_labels = [\"Automatic\",\"Manual\"]\n",
    "transmission_type_values = [0, 1]\n",
    "\n",
    "# Create Gradio interface\n",
    "iface = gr.Interface(\n",
    "    fn=predict_price,\n",
    "    inputs=[\n",
    "        gr.components.Number(label=\"Year\"),\n",
    "        gr.components.Number(label=\"Miles\"),\n",
    "        gr.components.Number(label=\"engine size\"),\n",
    "        gr.components.Number(label=\"cylinder\"),\n",
    "        gr.components.Dropdown(choices=zip(engine_type_labels, engine_type_values), label=\"engine type\"),\n",
    "        gr.components.Number(label=\"city mileage\"),\n",
    "        gr.components.Number(label=\"highway mileage\"),\n",
    "        gr.components.Number(label=\"gear\"),\n",
    "        gr.components.Dropdown(choices=zip(transmission_type_labels,transmission_type_values), label=\"transmission type\")\n",
    "    ],\n",
    "    outputs=gr.components.Textbox(label=\"Predicted Price\"),\n",
    "    title=\"Car Price Predictor\",\n",
    "\n",
    "# Launch the interface\n",
    "iface.launch()"
   ]
  },
  {
   "cell_type": "code",
   "execution_count": null,
   "id": "daec227d-2a18-46d2-aed8-abb1f59e13a9",
   "metadata": {},
   "outputs": [],
   "source": []
  },
  {
   "cell_type": "code",
   "execution_count": null,
   "id": "c706520d-f010-4bd0-894f-7a0032e701e0",
   "metadata": {},
   "outputs": [],
   "source": []
  }
 ],
 "metadata": {
  "kernelspec": {
   "display_name": "Python 3 (ipykernel)",
   "language": "python",
   "name": "python3"
  },
  "language_info": {
   "codemirror_mode": {
    "name": "ipython",
    "version": 3
   },
   "file_extension": ".py",
   "mimetype": "text/x-python",
   "name": "python",
   "nbconvert_exporter": "python",
   "pygments_lexer": "ipython3",
   "version": "3.11.3"
  }
 },
 "nbformat": 4,
 "nbformat_minor": 5
}
